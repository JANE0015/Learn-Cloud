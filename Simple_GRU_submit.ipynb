{
  "nbformat": 4,
  "nbformat_minor": 0,
  "metadata": {
    "colab": {
      "provenance": [],
      "mount_file_id": "1jTAdEayJ-IEbdOnuyDAMaKBTsQ0D61kc",
      "authorship_tag": "ABX9TyP4xRhZKB+cJBkydtLZbx8d",
      "include_colab_link": true
    },
    "kernelspec": {
      "name": "python3",
      "display_name": "Python 3"
    },
    "language_info": {
      "name": "python"
    }
  },
  "cells": [
    {
      "cell_type": "markdown",
      "metadata": {
        "id": "view-in-github",
        "colab_type": "text"
      },
      "source": [
        "<a href=\"https://colab.research.google.com/github/JANE0015/Learn-Cloud/blob/main/Simple_GRU_submit.ipynb\" target=\"_parent\"><img src=\"https://colab.research.google.com/assets/colab-badge.svg\" alt=\"Open In Colab\"/></a>"
      ]
    },
    {
      "cell_type": "markdown",
      "source": [
        "Include Library"
      ],
      "metadata": {
        "id": "FoES7KAIQsNv"
      }
    },
    {
      "cell_type": "code",
      "execution_count": null,
      "metadata": {
        "id": "97VHliHQOWGR",
        "colab": {
          "base_uri": "https://localhost:8080/"
        },
        "outputId": "b6cd54a0-6739-4c6d-8a4c-a992a4f43a91"
      },
      "outputs": [
        {
          "output_type": "stream",
          "name": "stderr",
          "text": [
            "[nltk_data] Downloading package wordnet to /root/nltk_data...\n",
            "[nltk_data] Downloading package stopwords to /root/nltk_data...\n",
            "[nltk_data]   Unzipping corpora/stopwords.zip.\n",
            "[nltk_data] Downloading package omw-1.4 to /root/nltk_data...\n",
            "[nltk_data] Downloading package punkt to /root/nltk_data...\n",
            "[nltk_data]   Unzipping tokenizers/punkt.zip.\n"
          ]
        }
      ],
      "source": [
        "import pandas as pd \n",
        "import matplotlib.pyplot as plt\n",
        "import numpy as np\n",
        "import seaborn as sb\n",
        "sb.set()\n",
        "\n",
        "import re\n",
        "import nltk\n",
        "nltk.download('wordnet')\n",
        "nltk.download('stopwords')\n",
        "nltk.download('omw-1.4')\n",
        "nltk.download('punkt')\n",
        "from nltk.corpus import stopwords \n",
        "from nltk.stem import WordNetLemmatizer"
      ]
    },
    {
      "cell_type": "markdown",
      "source": [
        "Extract dataset"
      ],
      "metadata": {
        "id": "N4XiEzqpQ0LI"
      }
    },
    {
      "cell_type": "code",
      "execution_count": null,
      "metadata": {
        "id": "h_puDzKWCP0k"
      },
      "outputs": [],
      "source": [
        "dataset = pd.read_json('/content/drive/MyDrive/2022/NTU/IE4483/train.json', encoding='utf-8')"
      ]
    },
    {
      "cell_type": "code",
      "source": [
        "rev = dataset[\"reviews\"]\n",
        "senti = dataset[\"sentiments\"]"
      ],
      "metadata": {
        "id": "vzv2BpgVO39p"
      },
      "execution_count": null,
      "outputs": []
    },
    {
      "cell_type": "code",
      "source": [
        "rev.shape"
      ],
      "metadata": {
        "id": "naTNgcMAO4Ac",
        "colab": {
          "base_uri": "https://localhost:8080/"
        },
        "outputId": "628b843a-de0a-444a-f013-21cabe4e863c"
      },
      "execution_count": null,
      "outputs": [
        {
          "output_type": "execute_result",
          "data": {
            "text/plain": [
              "(7401,)"
            ]
          },
          "metadata": {},
          "execution_count": 4
        }
      ]
    },
    {
      "cell_type": "code",
      "source": [
        "senti.shape"
      ],
      "metadata": {
        "id": "IT0HyHb6O8N1",
        "colab": {
          "base_uri": "https://localhost:8080/"
        },
        "outputId": "a9597628-d038-4549-fd49-be45809b133f"
      },
      "execution_count": null,
      "outputs": [
        {
          "output_type": "execute_result",
          "data": {
            "text/plain": [
              "(7401,)"
            ]
          },
          "metadata": {},
          "execution_count": 5
        }
      ]
    },
    {
      "cell_type": "code",
      "source": [
        "sen = senti.value_counts()\n",
        "print(f'Percentage of positive reviews = {round(sen[1]/len(rev)*100, 2)} %')\n",
        "sen.plot(kind=\"pie\");"
      ],
      "metadata": {
        "id": "DxedhN3XO8SB",
        "colab": {
          "base_uri": "https://localhost:8080/",
          "height": 265
        },
        "outputId": "6eb07fc8-75a8-4803-c052-e157129084fe"
      },
      "execution_count": null,
      "outputs": [
        {
          "output_type": "stream",
          "name": "stdout",
          "text": [
            "Percentage of positive reviews = 85.38 %\n"
          ]
        },
        {
          "output_type": "display_data",
          "data": {
            "text/plain": [
              "<Figure size 432x288 with 1 Axes>"
            ],
            "image/png": "[encoded data removed]"
          },
          "metadata": {}
        }
      ]
    },
    {
      "cell_type": "code",
      "source": [
        "dataset.head()"
      ],
      "metadata": {
        "id": "67vMQgMBou2F",
        "colab": {
          "base_uri": "https://localhost:8080/",
          "height": 206
        },
        "outputId": "eac2d822-db3e-4b99-a338-8ed107b6d3b5"
      },
      "execution_count": null,
      "outputs": [
        {
          "output_type": "execute_result",
          "data": {
            "text/plain": [
              "                                             reviews  sentiments\n",
              "0  I bought this belt for my daughter in-law for ...           1\n",
              "1  The size was perfect and so was the color.  It...           1\n",
              "2  Fits and feels good, esp. for doing a swim rac...           1\n",
              "3  These socks are absolutely the best. I take pi...           1\n",
              "4  Thank you so much for the speedy delivery they...           1"
            ],
            "text/html": [
              "\n",
              "  <div id=\"df-f5d0f01b-2110-43ac-b6c2-d3433ae83a5f\">\n",
              "    <div class=\"colab-df-container\">\n",
              "      <div>\n",
              "<style scoped>\n",
              "    .dataframe tbody tr th:only-of-type {\n",
              "        vertical-align: middle;\n",
              "    }\n",
              "\n",
              "    .dataframe tbody tr th {\n",
              "        vertical-align: top;\n",
              "    }\n",
              "\n",
              "    .dataframe thead th {\n",
              "        text-align: right;\n",
              "    }\n",
              "</style>\n",
              "<table border=\"1\" class=\"dataframe\">\n",
              "  <thead>\n",
              "    <tr style=\"text-align: right;\">\n",
              "      <th></th>\n",
              "      <th>reviews</th>\n",
              "      <th>sentiments</th>\n",
              "    </tr>\n",
              "  </thead>\n",
              "  <tbody>\n",
              "    <tr>\n",
              "      <th>0</th>\n",
              "      <td>I bought this belt for my daughter in-law for ...</td>\n",
              "      <td>1</td>\n",
              "    </tr>\n",
              "    <tr>\n",
              "      <th>1</th>\n",
              "      <td>The size was perfect and so was the color.  It...</td>\n",
              "      <td>1</td>\n",
              "    </tr>\n",
              "    <tr>\n",
              "      <th>2</th>\n",
              "      <td>Fits and feels good, esp. for doing a swim rac...</td>\n",
              "      <td>1</td>\n",
              "    </tr>\n",
              "    <tr>\n",
              "      <th>3</th>\n",
              "      <td>These socks are absolutely the best. I take pi...</td>\n",
              "      <td>1</td>\n",
              "    </tr>\n",
              "    <tr>\n",
              "      <th>4</th>\n",
              "      <td>Thank you so much for the speedy delivery they...</td>\n",
              "      <td>1</td>\n",
              "    </tr>\n",
              "  </tbody>\n",
              "</table>\n",
              "</div>\n",
              "      <button class=\"colab-df-convert\" onclick=\"convertToInteractive('df-f5d0f01b-2110-43ac-b6c2-d3433ae83a5f')\"\n",
              "              title=\"Convert this dataframe to an interactive table.\"\n",
              "              style=\"display:none;\">\n",
              "        \n",
              "  <svg xmlns=\"http://www.w3.org/2000/svg\" height=\"24px\"viewBox=\"0 0 24 24\"\n",
              "       width=\"24px\">\n",
              "    <path d=\"M0 0h24v24H0V0z\" fill=\"none\"/>\n",
              "    <path d=\"M18.56 5.44l.94 2.06.94-2.06 2.06-.94-2.06-.94-.94-2.06-.94 2.06-2.06.94zm-11 1L8.5 8.5l.94-2.06 2.06-.94-2.06-.94L8.5 2.5l-.94 2.06-2.06.94zm10 10l.94 2.06.94-2.06 2.06-.94-2.06-.94-.94-2.06-.94 2.06-2.06.94z\"/><path d=\"M17.41 7.96l-1.37-1.37c-.4-.4-.92-.59-1.43-.59-.52 0-1.04.2-1.43.59L10.3 9.45l-7.72 7.72c-.78.78-.78 2.05 0 2.83L4 21.41c.39.39.9.59 1.41.59.51 0 1.02-.2 1.41-.59l7.78-7.78 2.81-2.81c.8-.78.8-2.07 0-2.86zM5.41 20L4 18.59l7.72-7.72 1.47 1.35L5.41 20z\"/>\n",
              "  </svg>\n",
              "      </button>\n",
              "      \n",
              "  <style>\n",
              "    .colab-df-container {\n",
              "      display:flex;\n",
              "      flex-wrap:wrap;\n",
              "      gap: 12px;\n",
              "    }\n",
              "\n",
              "    .colab-df-convert {\n",
              "      background-color: #E8F0FE;\n",
              "      border: none;\n",
              "      border-radius: 50%;\n",
              "      cursor: pointer;\n",
              "      display: none;\n",
              "      fill: #1967D2;\n",
              "      height: 32px;\n",
              "      padding: 0 0 0 0;\n",
              "      width: 32px;\n",
              "    }\n",
              "\n",
              "    .colab-df-convert:hover {\n",
              "      background-color: #E2EBFA;\n",
              "      box-shadow: 0px 1px 2px rgba(60, 64, 67, 0.3), 0px 1px 3px 1px rgba(60, 64, 67, 0.15);\n",
              "      fill: #174EA6;\n",
              "    }\n",
              "\n",
              "    [theme=dark] .colab-df-convert {\n",
              "      background-color: #3B4455;\n",
              "      fill: #D2E3FC;\n",
              "    }\n",
              "\n",
              "    [theme=dark] .colab-df-convert:hover {\n",
              "      background-color: #434B5C;\n",
              "      box-shadow: 0px 1px 3px 1px rgba(0, 0, 0, 0.15);\n",
              "      filter: drop-shadow(0px 1px 2px rgba(0, 0, 0, 0.3));\n",
              "      fill: #FFFFFF;\n",
              "    }\n",
              "  </style>\n",
              "\n",
              "      <script>\n",
              "        const buttonEl =\n",
              "          document.querySelector('#df-f5d0f01b-2110-43ac-b6c2-d3433ae83a5f button.colab-df-convert');\n",
              "        buttonEl.style.display =\n",
              "          google.colab.kernel.accessAllowed ? 'block' : 'none';\n",
              "\n",
              "        async function convertToInteractive(key) {\n",
              "          const element = document.querySelector('#df-f5d0f01b-2110-43ac-b6c2-d3433ae83a5f');\n",
              "          const dataTable =\n",
              "            await google.colab.kernel.invokeFunction('convertToInteractive',\n",
              "                                                     [key], {});\n",
              "          if (!dataTable) return;\n",
              "\n",
              "          const docLinkHtml = 'Like what you see? Visit the ' +\n",
              "            '<a target=\"_blank\" href=https://colab.research.google.com/notebooks/data_table.ipynb>data table notebook</a>'\n",
              "            + ' to learn more about interactive tables.';\n",
              "          element.innerHTML = '';\n",
              "          dataTable['output_type'] = 'display_data';\n",
              "          await google.colab.output.renderOutput(dataTable, element);\n",
              "          const docLink = document.createElement('div');\n",
              "          docLink.innerHTML = docLinkHtml;\n",
              "          element.appendChild(docLink);\n",
              "        }\n",
              "      </script>\n",
              "    </div>\n",
              "  </div>\n",
              "  "
            ]
          },
          "metadata": {},
          "execution_count": 7
        }
      ]
    },
    {
      "cell_type": "code",
      "source": [],
      "metadata": {
        "id": "T707PYzQovEa"
      },
      "execution_count": null,
      "outputs": []
    },
    {
      "cell_type": "code",
      "source": [],
      "metadata": {
        "id": "3wvfnMrdovG1"
      },
      "execution_count": null,
      "outputs": []
    },
    {
      "cell_type": "code",
      "source": [],
      "metadata": {
        "id": "wXQELP6oovJo"
      },
      "execution_count": null,
      "outputs": []
    },
    {
      "cell_type": "code",
      "source": [],
      "metadata": {
        "id": "ioHJf26novNF"
      },
      "execution_count": null,
      "outputs": []
    },
    {
      "cell_type": "code",
      "source": [
        "emojis = {':)':'smile' , ':-)':'smile' , ';d':'wink' , ':-E':'vampire' , ':(':'sad' ,\n",
        "         ':-(':'sad' , ':-<': 'sad' ,  ':P':'raspberry' , ':O':'surprised' , \n",
        "         ':-@':'shocked' , ':@':'shocked' , ':$':'confused' , ':\\\\':'annoyed' ,\n",
        "         ':#':'mute' , ':X':'mute' , ':^)':'smile' , ':-&': 'confused' , '$_$':'greedy' ,\n",
        "         '@@':'eyeroll', ':-!':'confused' , ':-D':'smile' , ':-0':'yell' , 'O.o':'confused' ,\n",
        "         '<(-_-)>':'robot' , 'd[-_-]b':'dj' , \":')\":'sadsmile' , ';)':'wink' ,\n",
        "         ';-)':'wink' , 'O:-)':'angel' , 'O*-)':'angel' , '(:-D':'gossip' , '=^.^=':'cat'}"
      ],
      "metadata": {
        "id": "LGQVahcmO8VP"
      },
      "execution_count": null,
      "outputs": []
    },
    {
      "cell_type": "markdown",
      "source": [
        "Clean Dataset"
      ],
      "metadata": {
        "id": "VA_r7PsEQ5y0"
      }
    },
    {
      "cell_type": "code",
      "source": [
        "def clean_data(data):\n",
        "    data = str(data).lower()\n",
        "    data = re.sub(r\"@\\S+ \", r'',data)\n",
        "    \n",
        "    for emoji in emojis:\n",
        "        data = data.replace(emoji, emojis[emoji])\n",
        "    data = re.sub(\"\\s+\", ' ', data)\n",
        "    data = re.sub(\"\\n\", \" \", data)\n",
        "    letters = re.sub(\"[^a-zA-Z]\", \" \", data)\n",
        "    \n",
        "    return letters\n",
        "    "
      ],
      "metadata": {
        "id": "YUrvAE3BPQ0m"
      },
      "execution_count": null,
      "outputs": []
    },
    {
      "cell_type": "code",
      "source": [
        "def remove_ext_spacing(data):\n",
        "    data = re.sub(\" +\", \" \", data)\n",
        "    \n",
        "    return data  "
      ],
      "metadata": {
        "id": "adjfAg6pPQ2z"
      },
      "execution_count": null,
      "outputs": []
    },
    {
      "cell_type": "code",
      "source": [
        "sw = stopwords.words('english')"
      ],
      "metadata": {
        "id": "ael9A5TfPQ6p"
      },
      "execution_count": null,
      "outputs": []
    },
    {
      "cell_type": "code",
      "source": [
        "def stop_words(words):\n",
        "    clean_text =[]\n",
        "    for w in words:\n",
        "        if w not in sw:\n",
        "            clean_text.append(w)\n",
        "    \n",
        "    return clean_text\n",
        "            "
      ],
      "metadata": {
        "id": "uPsq_NNUPQ_P"
      },
      "execution_count": null,
      "outputs": []
    },
    {
      "cell_type": "code",
      "source": [
        "clean_text_1 = rev.apply(lambda x:clean_data(x))"
      ],
      "metadata": {
        "id": "yQWTTMsNPRBz"
      },
      "execution_count": null,
      "outputs": []
    },
    {
      "cell_type": "code",
      "source": [
        "clean_text_1.head()"
      ],
      "metadata": {
        "id": "x_gH0X5GPRGp",
        "colab": {
          "base_uri": "https://localhost:8080/"
        },
        "outputId": "13870e91-105d-447c-db3c-16c3ddaa9375"
      },
      "execution_count": null,
      "outputs": [
        {
          "output_type": "execute_result",
          "data": {
            "text/plain": [
              "0    i bought this belt for my daughter in law for ...\n",
              "1    the size was perfect and so was the color  it ...\n",
              "2    fits and feels good  esp  for doing a swim rac...\n",
              "3    these socks are absolutely the best  i take pi...\n",
              "4    thank you so much for the speedy delivery they...\n",
              "Name: reviews, dtype: object"
            ]
          },
          "metadata": {},
          "execution_count": 14
        }
      ]
    },
    {
      "cell_type": "code",
      "source": [
        "clean_text_2 = clean_text_1.apply(lambda x:remove_ext_spacing(x))"
      ],
      "metadata": {
        "id": "qQHRE9EZPRKo"
      },
      "execution_count": null,
      "outputs": []
    },
    {
      "cell_type": "markdown",
      "source": [
        "Split the sentence"
      ],
      "metadata": {
        "id": "GfYcFo3BRD1I"
      }
    },
    {
      "cell_type": "code",
      "source": [
        "#split into list of words\n",
        "clean_text_3 = clean_text_2.apply(lambda x:x.split(\" \") )"
      ],
      "metadata": {
        "id": "rdt59uh-QbsF"
      },
      "execution_count": null,
      "outputs": []
    },
    {
      "cell_type": "markdown",
      "source": [
        "Remove stopwords"
      ],
      "metadata": {
        "id": "ckOX4Na4RIQg"
      }
    },
    {
      "cell_type": "code",
      "source": [
        "clean_text_4 = clean_text_3.apply(lambda x:stop_words(x))"
      ],
      "metadata": {
        "id": "newwvlt1Qbug"
      },
      "execution_count": null,
      "outputs": []
    },
    {
      "cell_type": "markdown",
      "source": [
        "Lemmatization"
      ],
      "metadata": {
        "id": "UahNkR8VRKTX"
      }
    },
    {
      "cell_type": "code",
      "source": [
        "lemmatizer = WordNetLemmatizer()"
      ],
      "metadata": {
        "id": "ziv9I4t9Qbwa"
      },
      "execution_count": null,
      "outputs": []
    },
    {
      "cell_type": "code",
      "source": [
        "clean_text_5 = clean_text_4.apply(lambda x:[lemmatizer.lemmatize(word) for word in x])"
      ],
      "metadata": {
        "id": "zONJa5sBQbyI"
      },
      "execution_count": null,
      "outputs": []
    },
    {
      "cell_type": "code",
      "source": [
        "clean_text_6 = clean_text_5.apply(lambda x:\" \".join(x))"
      ],
      "metadata": {
        "id": "Ez3Qbla6Qb0N"
      },
      "execution_count": null,
      "outputs": []
    },
    {
      "cell_type": "code",
      "source": [
        "clean_text_6.shape"
      ],
      "metadata": {
        "id": "1pWA9f7tQb12",
        "colab": {
          "base_uri": "https://localhost:8080/"
        },
        "outputId": "012a771b-33ad-4e5d-dd5a-596392300999"
      },
      "execution_count": null,
      "outputs": [
        {
          "output_type": "execute_result",
          "data": {
            "text/plain": [
              "(7401,)"
            ]
          },
          "metadata": {},
          "execution_count": 21
        }
      ]
    },
    {
      "cell_type": "markdown",
      "source": [
        "Cleaned dataset"
      ],
      "metadata": {
        "id": "bnBOJ31VRNf6"
      }
    },
    {
      "cell_type": "code",
      "source": [
        "cleaned = pd.DataFrame(clean_text_6)\n",
        "cleaned[\"sentiments\"] = senti"
      ],
      "metadata": {
        "id": "YCjF74tzQb54"
      },
      "execution_count": null,
      "outputs": []
    },
    {
      "cell_type": "code",
      "source": [
        "sen = cleaned[\"sentiments\"] \n",
        "revi = cleaned[\"reviews\"]"
      ],
      "metadata": {
        "id": "Q0MkJWT7Qb9p"
      },
      "execution_count": null,
      "outputs": []
    },
    {
      "cell_type": "code",
      "source": [],
      "metadata": {
        "id": "AD574B7AuUI_"
      },
      "execution_count": null,
      "outputs": []
    },
    {
      "cell_type": "markdown",
      "source": [
        "Split dataset"
      ],
      "metadata": {
        "id": "YHVId6lGRrSZ"
      }
    },
    {
      "cell_type": "code",
      "source": [
        "from sklearn.model_selection import train_test_split"
      ],
      "metadata": {
        "id": "3h5kuHymO8Xm"
      },
      "execution_count": null,
      "outputs": []
    },
    {
      "cell_type": "code",
      "source": [
        "#splitting dataset into 33% and 67%\n",
        "X_train, X_test, y_train, y_test = train_test_split(revi.values, sen.values, test_size=0.33, random_state=42)"
      ],
      "metadata": {
        "id": "aVutpUavO4Fq"
      },
      "execution_count": null,
      "outputs": []
    },
    {
      "cell_type": "code",
      "source": [],
      "metadata": {
        "id": "ITOiCYeGu2fE"
      },
      "execution_count": null,
      "outputs": []
    },
    {
      "cell_type": "code",
      "source": [
        "#Tokenized dataset\n",
        "from keras.preprocessing.text import Tokenizer\n",
        "from keras_preprocessing.sequence import pad_sequences\n",
        "\n",
        "\n",
        "tokenizer_obj = Tokenizer()\n",
        "total_reviews = tokenizer_obj.fit_on_texts(revi) \n",
        "\n",
        "# length of a sentence\n",
        "max_length = 100 \n",
        "\n",
        "# define vocabulary size\n",
        "vocab_size = len(tokenizer_obj.word_index) + 1\n",
        "\n",
        "tokens =  tokenizer_obj.texts_to_sequences(revi)\n",
        "\n",
        "pad = pad_sequences(tokens, maxlen=max_length, padding='post')"
      ],
      "metadata": {
        "id": "qlBa17BzvsoT"
      },
      "execution_count": null,
      "outputs": []
    },
    {
      "cell_type": "code",
      "source": [],
      "metadata": {
        "id": "ujX76G46v1Ss"
      },
      "execution_count": null,
      "outputs": []
    },
    {
      "cell_type": "code",
      "source": [
        "X_train, X_test, y_train, y_test = train_test_split(pad, sen.values, test_size=0.33, random_state=42)"
      ],
      "metadata": {
        "id": "JF3Y56Wgv59j"
      },
      "execution_count": null,
      "outputs": []
    },
    {
      "cell_type": "code",
      "source": [],
      "metadata": {
        "id": "QQpTZjuLv1VC"
      },
      "execution_count": null,
      "outputs": []
    },
    {
      "cell_type": "code",
      "source": [],
      "metadata": {
        "id": "XG8Imse2v1XH"
      },
      "execution_count": null,
      "outputs": []
    },
    {
      "cell_type": "code",
      "source": [
        "from imblearn.over_sampling import RandomOverSampler"
      ],
      "metadata": {
        "id": "94qbRDpau2hV"
      },
      "execution_count": null,
      "outputs": []
    },
    {
      "cell_type": "code",
      "source": [
        "ROS = RandomOverSampler(sampling_strategy=1)"
      ],
      "metadata": {
        "id": "PVXruesBu2jV"
      },
      "execution_count": null,
      "outputs": []
    },
    {
      "cell_type": "code",
      "source": [
        "X_train_ros, y_train_ros =ROS.fit_resample(X_train, y_train)"
      ],
      "metadata": {
        "id": "Ul40kQ9Tu2lD"
      },
      "execution_count": null,
      "outputs": []
    },
    {
      "cell_type": "code",
      "source": [
        "X_test_ros, y_test_ros = ROS.fit_resample(X_test, y_test)"
      ],
      "metadata": {
        "id": "YFuN4HiIu7pp"
      },
      "execution_count": null,
      "outputs": []
    },
    {
      "cell_type": "code",
      "source": [],
      "metadata": {
        "id": "YOoXIFdSu7sU"
      },
      "execution_count": null,
      "outputs": []
    },
    {
      "cell_type": "code",
      "source": [
        "import tensorflow as tf\n",
        "from keras.models import Sequential\n",
        "from keras.layers import Dense, Embedding, GRU\n",
        "from tensorflow.keras.layers import Embedding\n",
        "from tensorflow.keras import regularizers\n",
        "\n",
        "EMBEDDING_DIM = 100\n",
        "\n",
        "print('Build model...')\n",
        "\n",
        "#Implemeted GRU for training\n",
        "model = Sequential()\n",
        "model.add(Embedding(vocab_size, EMBEDDING_DIM, input_length=max_length))\n",
        "model.add(Dense(32, activation='relu'))\n",
        "model.add(Dense(64, activation='relu', kernel_regularizer = regularizers.l2(0.01)))\n",
        "model.add(GRU(units=32,  dropout=0.4, recurrent_dropout=0.2))\n",
        "\n",
        "model.add(Dense(1, activation='sigmoid'))\n",
        "\n",
        "#used binary crossentropy as the output is binary(0 or 1)\n",
        "model.compile(loss='binary_crossentropy', optimizer=tf.keras.optimizers.Adam(learning_rate=0.01), metrics=['accuracy'])\n",
        "\n",
        "print('Summary of the built model...')\n",
        "print(model.summary())\n"
      ],
      "metadata": {
        "colab": {
          "base_uri": "https://localhost:8080/"
        },
        "outputId": "171a7010-62fc-46ca-922d-503716abe19b",
        "id": "oLXSvglcwQ6E"
      },
      "execution_count": null,
      "outputs": [
        {
          "output_type": "stream",
          "name": "stdout",
          "text": [
            "Build model...\n",
            "Summary of the built model...\n",
            "Model: \"sequential_5\"\n",
            "_________________________________________________________________\n",
            " Layer (type)                Output Shape              Param #   \n",
            "=================================================================\n",
            " embedding_4 (Embedding)     (None, 100, 100)          1208900   \n",
            "                                                                 \n",
            " dense_16 (Dense)            (None, 100, 32)           3232      \n",
            "                                                                 \n",
            " dense_17 (Dense)            (None, 100, 64)           2112      \n",
            "                                                                 \n",
            " gru_4 (GRU)                 (None, 32)                9408      \n",
            "                                                                 \n",
            " dense_18 (Dense)            (None, 1)                 33        \n",
            "                                                                 \n",
            "=================================================================\n",
            "Total params: 1,223,685\n",
            "Trainable params: 1,223,685\n",
            "Non-trainable params: 0\n",
            "_________________________________________________________________\n",
            "None\n"
          ]
        }
      ]
    },
    {
      "cell_type": "code",
      "source": [],
      "metadata": {
        "id": "rjcq87a_3W45"
      },
      "execution_count": null,
      "outputs": []
    },
    {
      "cell_type": "code",
      "source": [
        "print('Train...')\n",
        "\n",
        "history = model.fit(X_train, y_train, batch_size=128, epochs=25 , validation_data=(X_test, y_test), verbose=2)"
      ],
      "metadata": {
        "colab": {
          "base_uri": "https://localhost:8080/"
        },
        "outputId": "d2951ba0-7d69-46b5-9e2a-daae45589e00",
        "id": "kl0KC9i-3ZLf"
      },
      "execution_count": null,
      "outputs": [
        {
          "output_type": "stream",
          "name": "stdout",
          "text": [
            "Train...\n",
            "Epoch 1/25\n",
            "39/39 - 7s - loss: 0.0559 - accuracy: 0.9833 - val_loss: 0.4003 - val_accuracy: 0.8788 - 7s/epoch - 185ms/step\n",
            "Epoch 2/25\n",
            "39/39 - 6s - loss: 0.0584 - accuracy: 0.9837 - val_loss: 0.3766 - val_accuracy: 0.8903 - 6s/epoch - 159ms/step\n",
            "Epoch 3/25\n",
            "39/39 - 6s - loss: 0.0475 - accuracy: 0.9871 - val_loss: 0.4323 - val_accuracy: 0.8829 - 6s/epoch - 161ms/step\n",
            "Epoch 4/25\n",
            "39/39 - 6s - loss: 0.0488 - accuracy: 0.9883 - val_loss: 0.4872 - val_accuracy: 0.8895 - 6s/epoch - 160ms/step\n",
            "Epoch 5/25\n",
            "39/39 - 6s - loss: 0.0380 - accuracy: 0.9897 - val_loss: 0.4430 - val_accuracy: 0.8887 - 6s/epoch - 160ms/step\n",
            "Epoch 6/25\n",
            "39/39 - 6s - loss: 0.0402 - accuracy: 0.9905 - val_loss: 0.5099 - val_accuracy: 0.8895 - 6s/epoch - 160ms/step\n",
            "Epoch 7/25\n",
            "39/39 - 6s - loss: 0.0390 - accuracy: 0.9911 - val_loss: 0.4700 - val_accuracy: 0.8907 - 6s/epoch - 160ms/step\n",
            "Epoch 8/25\n",
            "39/39 - 6s - loss: 0.0389 - accuracy: 0.9887 - val_loss: 0.4627 - val_accuracy: 0.8817 - 6s/epoch - 159ms/step\n",
            "Epoch 9/25\n",
            "39/39 - 6s - loss: 0.0358 - accuracy: 0.9895 - val_loss: 0.4908 - val_accuracy: 0.8903 - 6s/epoch - 159ms/step\n",
            "Epoch 10/25\n",
            "39/39 - 6s - loss: 0.0259 - accuracy: 0.9944 - val_loss: 0.4789 - val_accuracy: 0.8825 - 6s/epoch - 160ms/step\n",
            "Epoch 11/25\n",
            "39/39 - 6s - loss: 0.0250 - accuracy: 0.9954 - val_loss: 0.5336 - val_accuracy: 0.8768 - 6s/epoch - 159ms/step\n",
            "Epoch 12/25\n",
            "39/39 - 6s - loss: 0.0346 - accuracy: 0.9911 - val_loss: 0.5043 - val_accuracy: 0.8809 - 6s/epoch - 159ms/step\n",
            "Epoch 13/25\n",
            "39/39 - 6s - loss: 0.0285 - accuracy: 0.9931 - val_loss: 0.5813 - val_accuracy: 0.8846 - 6s/epoch - 161ms/step\n",
            "Epoch 14/25\n",
            "39/39 - 6s - loss: 0.0234 - accuracy: 0.9937 - val_loss: 0.5136 - val_accuracy: 0.8858 - 6s/epoch - 159ms/step\n",
            "Epoch 15/25\n",
            "39/39 - 6s - loss: 0.0187 - accuracy: 0.9966 - val_loss: 0.6032 - val_accuracy: 0.8809 - 6s/epoch - 159ms/step\n",
            "Epoch 16/25\n",
            "39/39 - 6s - loss: 0.0497 - accuracy: 0.9861 - val_loss: 0.5115 - val_accuracy: 0.8760 - 6s/epoch - 159ms/step\n",
            "Epoch 17/25\n",
            "39/39 - 6s - loss: 0.0369 - accuracy: 0.9917 - val_loss: 0.4968 - val_accuracy: 0.8797 - 6s/epoch - 161ms/step\n",
            "Epoch 18/25\n",
            "39/39 - 8s - loss: 0.0256 - accuracy: 0.9950 - val_loss: 0.4990 - val_accuracy: 0.8756 - 8s/epoch - 205ms/step\n",
            "Epoch 19/25\n",
            "39/39 - 6s - loss: 0.0193 - accuracy: 0.9958 - val_loss: 0.5797 - val_accuracy: 0.8747 - 6s/epoch - 160ms/step\n",
            "Epoch 20/25\n",
            "39/39 - 6s - loss: 0.0239 - accuracy: 0.9946 - val_loss: 0.5203 - val_accuracy: 0.8711 - 6s/epoch - 160ms/step\n",
            "Epoch 21/25\n",
            "39/39 - 6s - loss: 0.0194 - accuracy: 0.9956 - val_loss: 0.6071 - val_accuracy: 0.8829 - 6s/epoch - 160ms/step\n",
            "Epoch 22/25\n",
            "39/39 - 6s - loss: 0.0268 - accuracy: 0.9913 - val_loss: 0.6039 - val_accuracy: 0.8903 - 6s/epoch - 161ms/step\n",
            "Epoch 23/25\n",
            "39/39 - 6s - loss: 0.0212 - accuracy: 0.9944 - val_loss: 0.5206 - val_accuracy: 0.8915 - 6s/epoch - 160ms/step\n",
            "Epoch 24/25\n",
            "39/39 - 6s - loss: 0.0220 - accuracy: 0.9948 - val_loss: 0.5485 - val_accuracy: 0.8944 - 6s/epoch - 160ms/step\n",
            "Epoch 25/25\n",
            "39/39 - 6s - loss: 0.0197 - accuracy: 0.9958 - val_loss: 0.5528 - val_accuracy: 0.8862 - 6s/epoch - 160ms/step\n"
          ]
        }
      ]
    },
    {
      "cell_type": "code",
      "source": [
        "print('Train...')\n",
        "\n",
        "history = model.fit(X_train_ros, y_train_ros, batch_size=128, epochs=23 , validation_data=(X_test_ros, y_test_ros), verbose=2)"
      ],
      "metadata": {
        "colab": {
          "base_uri": "https://localhost:8080/"
        },
        "id": "nFFRuLJzwOhI",
        "outputId": "1da2ebac-bc89-4f7a-9fb8-395cf59b45e5"
      },
      "execution_count": null,
      "outputs": [
        {
          "output_type": "stream",
          "name": "stdout",
          "text": [
            "Train...\n",
            "Epoch 1/23\n",
            "67/67 - 11s - loss: 0.9173 - accuracy: 0.4976 - val_loss: 0.8513 - val_accuracy: 0.5000 - 11s/epoch - 157ms/step\n",
            "Epoch 2/23\n",
            "67/67 - 10s - loss: 2.0088 - accuracy: 0.4960 - val_loss: 1.8299 - val_accuracy: 0.4998 - 10s/epoch - 154ms/step\n",
            "Epoch 3/23\n",
            "67/67 - 10s - loss: 1.5216 - accuracy: 0.5028 - val_loss: 1.2588 - val_accuracy: 0.5000 - 10s/epoch - 154ms/step\n",
            "Epoch 4/23\n",
            "67/67 - 10s - loss: 1.4817 - accuracy: 0.4980 - val_loss: 2.3400 - val_accuracy: 0.5000 - 10s/epoch - 155ms/step\n",
            "Epoch 5/23\n",
            "67/67 - 10s - loss: 1.6343 - accuracy: 0.4992 - val_loss: 1.3734 - val_accuracy: 0.5000 - 10s/epoch - 155ms/step\n",
            "Epoch 6/23\n",
            "67/67 - 12s - loss: 1.1515 - accuracy: 0.5032 - val_loss: 1.1698 - val_accuracy: 0.5000 - 12s/epoch - 181ms/step\n",
            "Epoch 7/23\n",
            "67/67 - 10s - loss: 1.9671 - accuracy: 0.4989 - val_loss: 2.8016 - val_accuracy: 0.5000 - 10s/epoch - 155ms/step\n",
            "Epoch 8/23\n",
            "67/67 - 10s - loss: 1.6681 - accuracy: 0.5079 - val_loss: 1.4707 - val_accuracy: 0.5000 - 10s/epoch - 155ms/step\n",
            "Epoch 9/23\n",
            "67/67 - 10s - loss: 1.4565 - accuracy: 0.4940 - val_loss: 1.3207 - val_accuracy: 0.5000 - 10s/epoch - 154ms/step\n",
            "Epoch 10/23\n",
            "67/67 - 10s - loss: 1.1484 - accuracy: 0.5073 - val_loss: 1.1815 - val_accuracy: 0.5000 - 10s/epoch - 154ms/step\n",
            "Epoch 11/23\n",
            "67/67 - 12s - loss: 1.1240 - accuracy: 0.5030 - val_loss: 1.3635 - val_accuracy: 0.5000 - 12s/epoch - 181ms/step\n",
            "Epoch 12/23\n",
            "67/67 - 10s - loss: 2.1286 - accuracy: 0.5027 - val_loss: 1.9445 - val_accuracy: 0.5000 - 10s/epoch - 156ms/step\n",
            "Epoch 13/23\n",
            "67/67 - 10s - loss: 1.4132 - accuracy: 0.5005 - val_loss: 1.1047 - val_accuracy: 0.5000 - 10s/epoch - 156ms/step\n",
            "Epoch 14/23\n",
            "67/67 - 10s - loss: 1.1531 - accuracy: 0.5054 - val_loss: 1.4886 - val_accuracy: 0.5007 - 10s/epoch - 155ms/step\n",
            "Epoch 15/23\n",
            "67/67 - 10s - loss: 1.2304 - accuracy: 0.4940 - val_loss: 1.2100 - val_accuracy: 0.5000 - 10s/epoch - 155ms/step\n",
            "Epoch 16/23\n",
            "67/67 - 10s - loss: 0.9836 - accuracy: 0.5034 - val_loss: 0.9189 - val_accuracy: 0.4888 - 10s/epoch - 155ms/step\n",
            "Epoch 17/23\n",
            "67/67 - 10s - loss: 0.9149 - accuracy: 0.4955 - val_loss: 0.8697 - val_accuracy: 0.5000 - 10s/epoch - 155ms/step\n",
            "Epoch 18/23\n",
            "67/67 - 10s - loss: 0.8867 - accuracy: 0.4944 - val_loss: 0.8859 - val_accuracy: 0.5000 - 10s/epoch - 155ms/step\n",
            "Epoch 19/23\n",
            "67/67 - 10s - loss: 1.1745 - accuracy: 0.5078 - val_loss: 1.0716 - val_accuracy: 0.5005 - 10s/epoch - 154ms/step\n",
            "Epoch 20/23\n",
            "67/67 - 10s - loss: 0.9743 - accuracy: 0.5024 - val_loss: 0.9663 - val_accuracy: 0.5000 - 10s/epoch - 156ms/step\n",
            "Epoch 21/23\n",
            "67/67 - 10s - loss: 1.5769 - accuracy: 0.5014 - val_loss: 2.0271 - val_accuracy: 0.5010 - 10s/epoch - 155ms/step\n",
            "Epoch 22/23\n",
            "67/67 - 10s - loss: 1.6772 - accuracy: 0.4983 - val_loss: 1.3463 - val_accuracy: 0.5000 - 10s/epoch - 155ms/step\n",
            "Epoch 23/23\n",
            "67/67 - 10s - loss: 1.4618 - accuracy: 0.5012 - val_loss: 1.6423 - val_accuracy: 0.5007 - 10s/epoch - 156ms/step\n"
          ]
        }
      ]
    },
    {
      "cell_type": "code",
      "source": [
        "import matplotlib.pyplot as plt\n",
        "# summarize history for accuracy\n",
        "plt.plot(history.history['accuracy'])\n",
        "plt.plot(history.history['val_accuracy'])\n",
        "plt.title('model accuracy')\n",
        "plt.ylabel('accuracy')\n",
        "plt.xlabel('epoch')\n",
        "plt.legend(['Train', 'Validation'], loc='upper left')\n",
        "plt.show()\n",
        "# summarize history for loss\n",
        "plt.plot(history.history['loss'])\n",
        "plt.plot(history.history['val_loss'])\n",
        "plt.title('model loss')\n",
        "plt.ylabel('loss')\n",
        "plt.xlabel('epoch')\n",
        "plt.legend(['Train', 'Validation'], loc='upper left')\n",
        "plt.show()"
      ],
      "metadata": {
        "colab": {
          "base_uri": "https://localhost:8080/",
          "height": 585
        },
        "id": "9vkXiFyawOld",
        "outputId": "2b6ee026-8dfc-4a5c-f9ed-8d42dbfa19dc"
      },
      "execution_count": null,
      "outputs": [
        {
          "output_type": "display_data",
          "data": {
            "text/plain": [
              "<Figure size 432x288 with 1 Axes>"
            ],
            "image/png": "[encoded data removed]"
          },
          "metadata": {}
        },
        {
          "output_type": "display_data",
          "data": {
            "text/plain": [
              "<Figure size 432x288 with 1 Axes>"
            ],
            "image/png": "[encoded data removed]"
          },
          "metadata": {}
        }
      ]
    },
    {
      "cell_type": "code",
      "source": [],
      "metadata": {
        "id": "rb0pTXTwwOrM"
      },
      "execution_count": null,
      "outputs": []
    },
    {
      "cell_type": "code",
      "source": [
        "#Tokenized dataset\n",
        "from keras.preprocessing.text import Tokenizer\n",
        "from keras_preprocessing.sequence import pad_sequences\n",
        "\n",
        "\n",
        "tokenizer_obj = Tokenizer()\n",
        "total_reviews = tokenizer_obj.fit_on_texts(revi) \n",
        "\n",
        "# length of a sentence\n",
        "max_length = 100 \n",
        "\n",
        "# define vocabulary size\n",
        "vocab_size = len(tokenizer_obj.word_index) + 1\n",
        "\n",
        "X_train_tokens =  tokenizer_obj.texts_to_sequences(X_train)\n",
        "X_test_tokens = tokenizer_obj.texts_to_sequences(X_test)\n",
        "\n",
        "\n",
        "X_train_pad = pad_sequences(X_train_tokens, maxlen=max_length, padding='post')\n",
        "X_test_pad = pad_sequences(X_test_tokens, maxlen=max_length, padding='post')"
      ],
      "metadata": {
        "id": "WIzD4paXUkNA"
      },
      "execution_count": null,
      "outputs": []
    },
    {
      "cell_type": "markdown",
      "source": [
        "Building Model"
      ],
      "metadata": {
        "id": "T72gdbTEUnDW"
      }
    },
    {
      "cell_type": "code",
      "source": [
        "from keras.models import Sequential\n",
        "from keras.layers import Dense, Embedding, GRU\n",
        "from tensorflow.keras.layers import Embedding\n",
        "from tensorflow.keras import regularizers\n",
        "\n",
        "EMBEDDING_DIM = 100\n",
        "\n",
        "print('Build model...')\n",
        "\n",
        "#Implemeted GRU for training\n",
        "model = Sequential()\n",
        "model.add(Embedding(vocab_size, EMBEDDING_DIM, input_length=max_length))\n",
        "model.add(Dense(64, activation='relu'))\n",
        "model.add(Dense(64, activation='relu', kernel_regularizer = regularizers.l2(0.01)))\n",
        "model.add(GRU(units=32,  dropout=0.2, recurrent_dropout=0.2))\n",
        "\n",
        "model.add(Dense(1, activation='sigmoid'))\n",
        "\n",
        "\n",
        "#used binary crossentropy as the output is binary(0 or 1)\n",
        "model.compile(loss='binary_crossentropy', optimizer='adam', metrics=['accuracy'])\n",
        "\n",
        "print('Summary of the built model...')\n",
        "print(model.summary())\n"
      ],
      "metadata": {
        "id": "0YgU5UlBUkPS",
        "colab": {
          "base_uri": "https://localhost:8080/"
        },
        "outputId": "a57e4d15-8d72-4aa5-c700-e456f53f4fb2"
      },
      "execution_count": null,
      "outputs": [
        {
          "output_type": "stream",
          "name": "stdout",
          "text": [
            "Build model...\n",
            "Summary of the built model...\n",
            "Model: \"sequential_1\"\n",
            "_________________________________________________________________\n",
            " Layer (type)                Output Shape              Param #   \n",
            "=================================================================\n",
            " embedding (Embedding)       (None, 100, 100)          1208900   \n",
            "                                                                 \n",
            " dense (Dense)               (None, 100, 64)           6464      \n",
            "                                                                 \n",
            " dense_1 (Dense)             (None, 100, 64)           4160      \n",
            "                                                                 \n",
            " gru (GRU)                   (None, 32)                9408      \n",
            "                                                                 \n",
            " dense_2 (Dense)             (None, 1)                 33        \n",
            "                                                                 \n",
            "=================================================================\n",
            "Total params: 1,228,965\n",
            "Trainable params: 1,228,965\n",
            "Non-trainable params: 0\n",
            "_________________________________________________________________\n",
            "None\n"
          ]
        }
      ]
    },
    {
      "cell_type": "code",
      "source": [
        "print('Train...')\n",
        "\n",
        "history = model.fit(X_train_pad, y_train, batch_size=128, epochs=23, validation_data=(X_test_pad, y_test), verbose=2)"
      ],
      "metadata": {
        "id": "aL8A5uxbUkRA",
        "colab": {
          "base_uri": "https://localhost:8080/"
        },
        "outputId": "b8335df0-43b5-4afc-8b4f-418601a71a53"
      },
      "execution_count": null,
      "outputs": [
        {
          "output_type": "stream",
          "name": "stdout",
          "text": [
            "Train...\n",
            "Epoch 1/23\n",
            "39/39 - 11s - loss: 1.0262 - accuracy: 0.8340 - val_loss: 0.7837 - val_accuracy: 0.8571 - 11s/epoch - 271ms/step\n",
            "Epoch 2/23\n",
            "39/39 - 7s - loss: 0.7067 - accuracy: 0.8522 - val_loss: 0.6199 - val_accuracy: 0.8571 - 7s/epoch - 172ms/step\n",
            "Epoch 3/23\n",
            "39/39 - 7s - loss: 0.5774 - accuracy: 0.8522 - val_loss: 0.5229 - val_accuracy: 0.8571 - 7s/epoch - 169ms/step\n",
            "Epoch 4/23\n",
            "39/39 - 8s - loss: 0.5043 - accuracy: 0.8522 - val_loss: 0.4705 - val_accuracy: 0.8571 - 8s/epoch - 217ms/step\n",
            "Epoch 5/23\n",
            "39/39 - 7s - loss: 0.4632 - accuracy: 0.8522 - val_loss: 0.4432 - val_accuracy: 0.8571 - 7s/epoch - 170ms/step\n",
            "Epoch 6/23\n",
            "39/39 - 7s - loss: 0.4409 - accuracy: 0.8522 - val_loss: 0.4271 - val_accuracy: 0.8571 - 7s/epoch - 171ms/step\n",
            "Epoch 7/23\n",
            "39/39 - 7s - loss: 0.4284 - accuracy: 0.8536 - val_loss: 0.4206 - val_accuracy: 0.8571 - 7s/epoch - 171ms/step\n",
            "Epoch 8/23\n",
            "39/39 - 7s - loss: 0.4224 - accuracy: 0.8548 - val_loss: 0.4187 - val_accuracy: 0.8571 - 7s/epoch - 170ms/step\n",
            "Epoch 9/23\n",
            "39/39 - 7s - loss: 0.4179 - accuracy: 0.8550 - val_loss: 0.4137 - val_accuracy: 0.8571 - 7s/epoch - 169ms/step\n",
            "Epoch 10/23\n",
            "39/39 - 7s - loss: 0.4158 - accuracy: 0.8550 - val_loss: 0.4148 - val_accuracy: 0.8571 - 7s/epoch - 171ms/step\n",
            "Epoch 11/23\n",
            "39/39 - 7s - loss: 0.4140 - accuracy: 0.8550 - val_loss: 0.4127 - val_accuracy: 0.8571 - 7s/epoch - 173ms/step\n",
            "Epoch 12/23\n",
            "39/39 - 7s - loss: 0.4127 - accuracy: 0.8550 - val_loss: 0.4134 - val_accuracy: 0.8571 - 7s/epoch - 180ms/step\n",
            "Epoch 13/23\n",
            "39/39 - 7s - loss: 0.4135 - accuracy: 0.8550 - val_loss: 0.4132 - val_accuracy: 0.8571 - 7s/epoch - 177ms/step\n",
            "Epoch 14/23\n",
            "39/39 - 7s - loss: 0.4131 - accuracy: 0.8550 - val_loss: 0.4131 - val_accuracy: 0.8571 - 7s/epoch - 174ms/step\n",
            "Epoch 15/23\n",
            "39/39 - 7s - loss: 0.4116 - accuracy: 0.8550 - val_loss: 0.4138 - val_accuracy: 0.8571 - 7s/epoch - 174ms/step\n",
            "Epoch 16/23\n",
            "39/39 - 7s - loss: 0.4124 - accuracy: 0.8550 - val_loss: 0.4141 - val_accuracy: 0.8571 - 7s/epoch - 173ms/step\n",
            "Epoch 17/23\n",
            "39/39 - 7s - loss: 0.4106 - accuracy: 0.8550 - val_loss: 0.4192 - val_accuracy: 0.8571 - 7s/epoch - 174ms/step\n",
            "Epoch 18/23\n",
            "39/39 - 7s - loss: 0.4102 - accuracy: 0.8550 - val_loss: 0.4202 - val_accuracy: 0.8571 - 7s/epoch - 173ms/step\n",
            "Epoch 19/23\n",
            "39/39 - 7s - loss: 0.4097 - accuracy: 0.8550 - val_loss: 0.4203 - val_accuracy: 0.8571 - 7s/epoch - 174ms/step\n",
            "Epoch 20/23\n",
            "39/39 - 7s - loss: 0.4041 - accuracy: 0.8550 - val_loss: 0.4090 - val_accuracy: 0.8571 - 7s/epoch - 174ms/step\n",
            "Epoch 21/23\n",
            "39/39 - 7s - loss: 0.3447 - accuracy: 0.8550 - val_loss: 0.3422 - val_accuracy: 0.8571 - 7s/epoch - 175ms/step\n",
            "Epoch 22/23\n",
            "39/39 - 7s - loss: 0.2593 - accuracy: 0.8812 - val_loss: 0.3053 - val_accuracy: 0.8760 - 7s/epoch - 174ms/step\n",
            "Epoch 23/23\n",
            "39/39 - 7s - loss: 0.2065 - accuracy: 0.9234 - val_loss: 0.3023 - val_accuracy: 0.8883 - 7s/epoch - 175ms/step\n"
          ]
        }
      ]
    },
    {
      "cell_type": "code",
      "source": [
        "print('Testing...')\n",
        "score, acc = model.evaluate(X_test_pad, y_test, batch_size=128)\n",
        "\n",
        "print('Test score:', score)\n",
        "print('Test accuracy:', acc)\n",
        "\n",
        "print(\"Accuracy: {0:.2%}\".format(acc))"
      ],
      "metadata": {
        "id": "kNcnIqnfUkSp"
      },
      "execution_count": null,
      "outputs": []
    },
    {
      "cell_type": "code",
      "source": [
        "import matplotlib.pyplot as plt\n",
        "# summarize history for accuracy\n",
        "plt.plot(history.history['accuracy'])\n",
        "plt.plot(history.history['val_accuracy'])\n",
        "plt.title('model accuracy')\n",
        "plt.ylabel('accuracy')\n",
        "plt.xlabel('epoch')\n",
        "plt.legend(['Train', 'Validation'], loc='upper left')\n",
        "plt.show()\n",
        "# summarize history for loss\n",
        "plt.plot(history.history['loss'])\n",
        "plt.plot(history.history['val_loss'])\n",
        "plt.title('model loss')\n",
        "plt.ylabel('loss')\n",
        "plt.xlabel('epoch')\n",
        "plt.legend(['Train', 'Validation'], loc='upper left')\n",
        "plt.show()"
      ],
      "metadata": {
        "id": "1xoCoLhQc9La"
      },
      "execution_count": null,
      "outputs": []
    },
    {
      "cell_type": "code",
      "source": [
        "test_samples = pd.read_json('/content/drive/MyDrive/2022/NTU/IE4483/test.json', encoding='utf-8')"
      ],
      "metadata": {
        "id": "DlK82zdAbUrm"
      },
      "execution_count": null,
      "outputs": []
    },
    {
      "cell_type": "markdown",
      "source": [
        "Predict review on test.json"
      ],
      "metadata": {
        "id": "qbNDs-L7UzYi"
      }
    },
    {
      "cell_type": "code",
      "source": [
        "total_reviews = test_samples['reviews']\n",
        "\n",
        "# pad sequences\n",
        "\n",
        "test_token = tokenizer_obj.texts_to_sequences(total_reviews)\n",
        "\n",
        "test_pad = pad_sequences(test_token, maxlen=max_length, padding='post')\n"
      ],
      "metadata": {
        "id": "zq8z6XuAUkUa"
      },
      "execution_count": null,
      "outputs": []
    },
    {
      "cell_type": "code",
      "source": [
        "output = model.predict(x=test_pad)"
      ],
      "metadata": {
        "id": "is9d-aTQUkWY"
      },
      "execution_count": null,
      "outputs": []
    },
    {
      "cell_type": "code",
      "source": [],
      "metadata": {
        "id": "-KnioZvheiMy"
      },
      "execution_count": null,
      "outputs": []
    },
    {
      "cell_type": "code",
      "source": [
        "output = np.round(output)"
      ],
      "metadata": {
        "id": "pObby0QtUkXu"
      },
      "execution_count": null,
      "outputs": []
    },
    {
      "cell_type": "code",
      "source": [],
      "metadata": {
        "id": "Sx9HhfQUegbA"
      },
      "execution_count": null,
      "outputs": []
    },
    {
      "cell_type": "code",
      "source": [
        "test_samples[\"sentiments\"] = output"
      ],
      "metadata": {
        "id": "nawUeceJUkZ4"
      },
      "execution_count": null,
      "outputs": []
    },
    {
      "cell_type": "code",
      "source": [],
      "metadata": {
        "id": "rdi-2aKneBd6"
      },
      "execution_count": null,
      "outputs": []
    },
    {
      "cell_type": "code",
      "source": [
        "test_samples.to_csv('/content/drive/MyDrive/2022/NTU/IE4483/submitnew.csv')"
      ],
      "metadata": {
        "id": "WlH4TvS-U8te"
      },
      "execution_count": null,
      "outputs": []
    },
    {
      "cell_type": "code",
      "source": [],
      "metadata": {
        "id": "B286_qmPU8x1"
      },
      "execution_count": null,
      "outputs": []
    },
    {
      "cell_type": "markdown",
      "source": [
        "Deal with imbalanced data"
      ],
      "metadata": {
        "id": "ZuVODSY7me0W"
      }
    },
    {
      "cell_type": "code",
      "source": [
        "!pip install imbalanced-learn"
      ],
      "metadata": {
        "id": "pDtgVQA9U81z"
      },
      "execution_count": null,
      "outputs": []
    },
    {
      "cell_type": "code",
      "source": [
        "from collections import Counter"
      ],
      "metadata": {
        "id": "aSvNsRq5mwvd"
      },
      "execution_count": null,
      "outputs": []
    },
    {
      "cell_type": "code",
      "source": [
        "data = pd.read_json('/content/drive/MyDrive/2022/NTU/IE4483/train.json', encoding='utf-8')"
      ],
      "metadata": {
        "id": "-j_kU-vOmwxA"
      },
      "execution_count": null,
      "outputs": []
    },
    {
      "cell_type": "code",
      "source": [
        "review = data[\"reviews\"]\n",
        "sentiment = data[\"sentiments\"]"
      ],
      "metadata": {
        "id": "mc8Abtt_mwyh"
      },
      "execution_count": null,
      "outputs": []
    },
    {
      "cell_type": "code",
      "source": [
        "X_train, X_test, y_train, y_test = train_test_split(review.values, sentiment.values, test_size=0.33, random_state=42)"
      ],
      "metadata": {
        "id": "atnuO1HKmw2B"
      },
      "execution_count": null,
      "outputs": []
    },
    {
      "cell_type": "code",
      "source": [
        "Counter(y_train)"
      ],
      "metadata": {
        "id": "rFim6nCznNKl"
      },
      "execution_count": null,
      "outputs": []
    },
    {
      "cell_type": "code",
      "source": [
        "from imblearn.over_sampling import RandomOverSampler"
      ],
      "metadata": {
        "id": "4Wz6n0VfmkWy"
      },
      "execution_count": null,
      "outputs": []
    },
    {
      "cell_type": "code",
      "source": [
        "ROS = RandomOverSampler(sampling_strategy=1)"
      ],
      "metadata": {
        "id": "dRC_l3jHmkY3"
      },
      "execution_count": null,
      "outputs": []
    },
    {
      "cell_type": "code",
      "source": [
        "#Tokenized dataset\n",
        "from keras.preprocessing.text import Tokenizer\n",
        "from keras_preprocessing.sequence import pad_sequences\n",
        "\n",
        "\n",
        "tokenizer_obj = Tokenizer()\n",
        "total_reviews = tokenizer_obj.fit_on_texts(review) \n",
        "\n",
        "# length of a sentence\n",
        "max_length = 100 \n",
        "\n",
        "# define vocabulary size\n",
        "vocab_size = len(tokenizer_obj.word_index) + 1\n",
        "\n",
        "tokens =  tokenizer_obj.texts_to_sequences(review)\n",
        "\n",
        "pad = pad_sequences(tokens, maxlen=max_length, padding='post')"
      ],
      "metadata": {
        "id": "astodhE4mkal"
      },
      "execution_count": null,
      "outputs": []
    },
    {
      "cell_type": "code",
      "source": [
        "X_train, X_test, y_train, y_test = train_test_split(pad, sentiment.values, test_size=0.33, random_state=42)"
      ],
      "metadata": {
        "id": "krTfyqjsmkcd"
      },
      "execution_count": null,
      "outputs": []
    },
    {
      "cell_type": "code",
      "source": [
        "Counter(y_train)"
      ],
      "metadata": {
        "id": "XNQWfkJjtdKq"
      },
      "execution_count": null,
      "outputs": []
    },
    {
      "cell_type": "code",
      "source": [
        "X_train_ros, y_train_ros = ROS.fit_resample(X_train, y_train)"
      ],
      "metadata": {
        "id": "EVhen60Xmkd8"
      },
      "execution_count": null,
      "outputs": []
    },
    {
      "cell_type": "code",
      "source": [
        "Counter(y_train_ros)"
      ],
      "metadata": {
        "id": "KLzr8iNytmCc"
      },
      "execution_count": null,
      "outputs": []
    },
    {
      "cell_type": "code",
      "source": [
        "X_test_ros, y_test_ros = ROS.fit_resample(X_test, y_test)"
      ],
      "metadata": {
        "id": "SC50sQcMmkhT"
      },
      "execution_count": null,
      "outputs": []
    },
    {
      "cell_type": "code",
      "source": [
        "from keras.models import Sequential\n",
        "from keras.layers import Dense, Embedding, GRU\n",
        "from tensorflow.keras.layers import Embedding\n",
        "from tensorflow.keras import regularizers\n",
        "\n",
        "EMBEDDING_DIM = 100\n",
        "\n",
        "print('Build model...')\n",
        "\n",
        "#Implemeted GRU for training\n",
        "model = Sequential()\n",
        "model.add(Embedding(vocab_size, EMBEDDING_DIM, input_length=max_length))\n",
        "model.add(Dense(64, activation='relu'))\n",
        "model.add(Dense(32, activation='relu', kernel_regularizer = regularizers.l2(0.01)))\n",
        "model.add(GRU(units=32,  dropout=0.2, recurrent_dropout=0.2))\n",
        "#used binary crossentropy as the output is 0 or 1\n",
        "model.add(Dense(1, activation='sigmoid'))\n",
        "\n",
        "\n",
        "#used binary crossentropy as the output is binary(0 or 1)\n",
        "model.compile(loss='binary_crossentropy', optimizer='adam', metrics=['accuracy'])\n",
        "\n",
        "print('Summary of the built model...')\n",
        "print(model.summary())"
      ],
      "metadata": {
        "id": "AgCRxBrYmILG"
      },
      "execution_count": null,
      "outputs": []
    },
    {
      "cell_type": "code",
      "source": [
        "print('Train...')\n",
        "\n",
        "model.fit(X_train_ros, y_train_ros, batch_size=128, epochs=25, validation_data=(X_test_ros, y_test_ros), verbose=2)"
      ],
      "metadata": {
        "id": "Uw0iytK4mINu"
      },
      "execution_count": null,
      "outputs": []
    },
    {
      "cell_type": "code",
      "source": [
        "print('Testing...')\n",
        "score, acc = model.evaluate(X_test_ros, y_test_ros, batch_size=128)\n",
        "\n",
        "print('Test score:', score)\n",
        "print('Test accuracy:', acc)\n",
        "\n",
        "print(\"Accuracy: {0:.2%}\".format(acc))"
      ],
      "metadata": {
        "id": "CtqczDYqp_Tc"
      },
      "execution_count": null,
      "outputs": []
    },
    {
      "cell_type": "code",
      "source": [
        "sample = pd.read_json('/content/drive/MyDrive/2022/NTU/IE4483/test.json', encoding='utf-8')"
      ],
      "metadata": {
        "id": "Z-571vSVp_W_"
      },
      "execution_count": null,
      "outputs": []
    },
    {
      "cell_type": "code",
      "source": [
        "reviews = sample['reviews']\n",
        "\n",
        "# pad sequences\n",
        "\n",
        "test = tokenizer_obj.texts_to_sequences(reviews)\n",
        "\n",
        "test_pad = pad_sequences(test, maxlen=max_length, padding='post')"
      ],
      "metadata": {
        "id": "FN3MgIVFmIQC"
      },
      "execution_count": null,
      "outputs": []
    },
    {
      "cell_type": "code",
      "source": [
        "output3 = model.predict(x=test_pad)"
      ],
      "metadata": {
        "id": "055xvcTWmISB"
      },
      "execution_count": null,
      "outputs": []
    },
    {
      "cell_type": "code",
      "source": [
        "output3 = np.round(output3)"
      ],
      "metadata": {
        "id": "oFrrPtwKqZBd"
      },
      "execution_count": null,
      "outputs": []
    },
    {
      "cell_type": "code",
      "source": [],
      "metadata": {
        "id": "A-mLFeFBvNHn"
      },
      "execution_count": null,
      "outputs": []
    },
    {
      "cell_type": "code",
      "source": [
        " sample[\"sentiments\"] = output3"
      ],
      "metadata": {
        "id": "IsPtxUhgqZD1"
      },
      "execution_count": null,
      "outputs": []
    },
    {
      "cell_type": "code",
      "source": [
        "sample.to_csv('/content/drive/MyDrive/2022/NTU/IE4483/submit9.csv')"
      ],
      "metadata": {
        "id": "hiLnd-ApqZHQ"
      },
      "execution_count": null,
      "outputs": []
    },
    {
      "cell_type": "code",
      "source": [],
      "metadata": {
        "id": "hpihm_EomIVf"
      },
      "execution_count": null,
      "outputs": []
    },
    {
      "cell_type": "code",
      "source": [],
      "metadata": {
        "id": "uGFnqQ5PtV6h"
      },
      "execution_count": null,
      "outputs": []
    },
    {
      "cell_type": "markdown",
      "source": [
        "Imnbalance Solution 2"
      ],
      "metadata": {
        "id": "YdfvGirGtusd"
      }
    },
    {
      "cell_type": "code",
      "source": [
        "sen = cleaned[\"sentiments\"] \n",
        "revi = cleaned[\"reviews\"]"
      ],
      "metadata": {
        "id": "p8KsknJDtV95"
      },
      "execution_count": null,
      "outputs": []
    },
    {
      "cell_type": "code",
      "source": [
        "#Tokenized dataset\n",
        "from keras.preprocessing.text import Tokenizer\n",
        "from keras_preprocessing.sequence import pad_sequences\n",
        "\n",
        "\n",
        "tokenizer_obj = Tokenizer()\n",
        "total_reviews = tokenizer_obj.fit_on_texts(revi) \n",
        "\n",
        "# length of a sentence\n",
        "max_length = 100 \n",
        "\n",
        "# define vocabulary size\n",
        "vocab_size = len(tokenizer_obj.word_index) + 1\n",
        "\n",
        "tokens =  tokenizer_obj.texts_to_sequences(revi)\n",
        "\n",
        "pad = pad_sequences(tokens, maxlen=max_length, padding='post')"
      ],
      "metadata": {
        "id": "FC_aUfehuI2k"
      },
      "execution_count": null,
      "outputs": []
    },
    {
      "cell_type": "code",
      "source": [
        "X_train, X_test, y_train, y_test = train_test_split(pad, sen.values, test_size=0.33, random_state=42)"
      ],
      "metadata": {
        "id": "L2F0pmdLt6l_"
      },
      "execution_count": null,
      "outputs": []
    },
    {
      "cell_type": "code",
      "source": [
        "X_train_ros, y_train_ros = ROS.fit_resample(X_train, y_train)"
      ],
      "metadata": {
        "id": "QFrPde4It-pF"
      },
      "execution_count": null,
      "outputs": []
    },
    {
      "cell_type": "code",
      "source": [
        "Counter(y_train_ros)"
      ],
      "metadata": {
        "id": "O6ersCuruSLr"
      },
      "execution_count": null,
      "outputs": []
    },
    {
      "cell_type": "code",
      "source": [
        "X_test_ros, y_test_ros = ROS.fit_resample(X_test, y_test)"
      ],
      "metadata": {
        "id": "9TTtAKuauSNQ"
      },
      "execution_count": null,
      "outputs": []
    },
    {
      "cell_type": "code",
      "source": [
        "from keras.models import Sequential\n",
        "from keras.layers import Dense, Embedding, GRU\n",
        "from tensorflow.keras.layers import Embedding\n",
        "\n",
        "EMBEDDING_DIM = 100\n",
        "\n",
        "print('Build model...')\n",
        "\n",
        "#Implemeted GRU for training\n",
        "model2 = Sequential()\n",
        "model2.add(Embedding(vocab_size, EMBEDDING_DIM, input_length=max_length))\n",
        "#model2.add(Dense(64, activation='relu'))\n",
        "model2.add(GRU(units=32,  dropout=0.2, recurrent_dropout=0.2))\n",
        "#used binary crossentropy as the output is 0 or 1\n",
        "model2.add(Dense(1, activation='sigmoid'))\n",
        "\n",
        "\n",
        "#used binary crossentropy as the output is binary(0 or 1)\n",
        "model2.compile(loss='binary_crossentropy', optimizer='adam', metrics=['accuracy'])\n",
        "\n",
        "print('Summary of the built model...')\n",
        "print(model2.summary())"
      ],
      "metadata": {
        "id": "gBy-YTm5uSPF"
      },
      "execution_count": null,
      "outputs": []
    },
    {
      "cell_type": "code",
      "source": [
        "print('Train...')\n",
        "\n",
        "model2.fit(X_train_ros, y_train_ros, batch_size=128, epochs=23, validation_data=(X_test_ros, y_test_ros), verbose=2)"
      ],
      "metadata": {
        "id": "GGZn2DIwuSQz"
      },
      "execution_count": null,
      "outputs": []
    },
    {
      "cell_type": "code",
      "source": [
        "print('Testing...')\n",
        "score, acc = model2.evaluate(X_test_ros, y_test_ros, batch_size=128)\n",
        "\n",
        "print('Test score:', score)\n",
        "print('Test accuracy:', acc)\n",
        "\n",
        "print(\"Accuracy: {0:.2%}\".format(acc))"
      ],
      "metadata": {
        "id": "fpliPvsZuSSK"
      },
      "execution_count": null,
      "outputs": []
    },
    {
      "cell_type": "code",
      "source": [
        "sample2 = pd.read_json('/content/drive/MyDrive/2022/NTU/IE4483/test.json', encoding='utf-8')"
      ],
      "metadata": {
        "id": "GLgBbMOpvQ8k"
      },
      "execution_count": null,
      "outputs": []
    },
    {
      "cell_type": "code",
      "source": [
        "review2 = sample2['reviews']\n",
        "\n",
        "# pad sequences\n",
        "\n",
        "test = tokenizer_obj.texts_to_sequences(review2)\n",
        "\n",
        "test_pad = pad_sequences(test, maxlen=max_length, padding='post')"
      ],
      "metadata": {
        "id": "NYRNuykavUvY"
      },
      "execution_count": null,
      "outputs": []
    },
    {
      "cell_type": "code",
      "source": [
        "output2 = model2.predict(x=test_pad)"
      ],
      "metadata": {
        "id": "xtdBe2jLuSVX"
      },
      "execution_count": null,
      "outputs": []
    },
    {
      "cell_type": "code",
      "source": [
        "output2[30:]"
      ],
      "metadata": {
        "id": "UK_uAk8o0Clf"
      },
      "execution_count": null,
      "outputs": []
    },
    {
      "cell_type": "code",
      "source": [
        "output2 = round(output2)"
      ],
      "metadata": {
        "id": "e9uVM1sVvOVU"
      },
      "execution_count": null,
      "outputs": []
    },
    {
      "cell_type": "code",
      "source": [
        "sample2[\"sentiments\"] = output2"
      ],
      "metadata": {
        "id": "GT8TS4j4vOYr"
      },
      "execution_count": null,
      "outputs": []
    },
    {
      "cell_type": "code",
      "source": [
        "\n",
        "sample2.to_csv('/content/drive/MyDrive/2022/NTU/IE4483/submit7.csv')"
      ],
      "metadata": {
        "id": "FLxFO1ZPxnBX"
      },
      "execution_count": null,
      "outputs": []
    },
    {
      "cell_type": "code",
      "source": [
        "round(0.8)"
      ],
      "metadata": {
        "id": "888Buh7gxvF1"
      },
      "execution_count": null,
      "outputs": []
    },
    {
      "cell_type": "code",
      "source": [],
      "metadata": {
        "id": "-yhcZYf6zB5a"
      },
      "execution_count": null,
      "outputs": []
    }
  ]
}